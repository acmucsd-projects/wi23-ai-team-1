{
 "cells": [
  {
   "cell_type": "markdown",
   "id": "bda6ef13",
   "metadata": {
    "_cell_guid": "0a228c24-5dd0-4c5e-b737-6aa33e81a8cc",
    "_uuid": "b81db511-441e-4431-8061-901682022a9b",
    "papermill": {
     "duration": 0.00607,
     "end_time": "2023-03-19T00:27:42.845366",
     "exception": false,
     "start_time": "2023-03-19T00:27:42.839296",
     "status": "completed"
    },
    "tags": []
   },
   "source": [
    "# Setup"
   ]
  },
  {
   "cell_type": "code",
   "execution_count": 1,
   "id": "981884fd",
   "metadata": {
    "execution": {
     "iopub.execute_input": "2023-03-19T00:27:42.857393Z",
     "iopub.status.busy": "2023-03-19T00:27:42.856651Z",
     "iopub.status.idle": "2023-03-19T00:27:42.867182Z",
     "shell.execute_reply": "2023-03-19T00:27:42.866300Z"
    },
    "papermill": {
     "duration": 0.018746,
     "end_time": "2023-03-19T00:27:42.869166",
     "exception": false,
     "start_time": "2023-03-19T00:27:42.850420",
     "status": "completed"
    },
    "tags": []
   },
   "outputs": [],
   "source": [
    "# Set to True when we want to run the code\n",
    "WILL_RUN = False"
   ]
  },
  {
   "cell_type": "code",
   "execution_count": 2,
   "id": "62a99759",
   "metadata": {
    "_cell_guid": "77a6d5cb-c5e1-464f-a207-aaaf714217e5",
    "_uuid": "5d0a9466-d9ad-4f8e-b2df-f2912e3199b7",
    "collapsed": false,
    "execution": {
     "iopub.execute_input": "2023-03-19T00:27:42.880581Z",
     "iopub.status.busy": "2023-03-19T00:27:42.879774Z",
     "iopub.status.idle": "2023-03-19T00:27:50.313573Z",
     "shell.execute_reply": "2023-03-19T00:27:50.312536Z"
    },
    "jupyter": {
     "outputs_hidden": false
    },
    "papermill": {
     "duration": 7.442358,
     "end_time": "2023-03-19T00:27:50.316433",
     "exception": false,
     "start_time": "2023-03-19T00:27:42.874075",
     "status": "completed"
    },
    "tags": []
   },
   "outputs": [],
   "source": [
    "import pandas as pd\n",
    "import numpy as np\n",
    "\n",
    "import tensorflow as tf\n",
    "from tensorflow import keras\n",
    "\n",
    "from sklearn.model_selection import StratifiedShuffleSplit"
   ]
  },
  {
   "cell_type": "code",
   "execution_count": 3,
   "id": "db616c4b",
   "metadata": {
    "_cell_guid": "88f8eb4b-23a8-46e5-8d9f-7012db25b7cb",
    "_uuid": "6d4fa61d-0edb-40d0-b96e-7aa769d1167c",
    "collapsed": false,
    "execution": {
     "iopub.execute_input": "2023-03-19T00:27:50.328231Z",
     "iopub.status.busy": "2023-03-19T00:27:50.327303Z",
     "iopub.status.idle": "2023-03-19T00:27:52.676000Z",
     "shell.execute_reply": "2023-03-19T00:27:52.674910Z"
    },
    "id": "T3ng90-PS0JD",
    "jupyter": {
     "outputs_hidden": false
    },
    "outputId": "5bab9c74-8f9f-4c7d-d1b4-e034f7b7b3be",
    "papermill": {
     "duration": 2.357157,
     "end_time": "2023-03-19T00:27:52.678493",
     "exception": false,
     "start_time": "2023-03-19T00:27:50.321336",
     "status": "completed"
    },
    "pycharm": {
     "is_executing": true
    },
    "tags": []
   },
   "outputs": [],
   "source": [
    "data = pd.read_csv(\"/kaggle/input/toxic-message-classifier-dataset/train_cleaned.csv\")"
   ]
  },
  {
   "cell_type": "markdown",
   "id": "9e8e82cd",
   "metadata": {
    "_cell_guid": "8727fbee-4fbc-440c-b2bb-8a04605cebb2",
    "_uuid": "1b567499-0860-419c-9500-2d94d901af56",
    "papermill": {
     "duration": 0.004807,
     "end_time": "2023-03-19T00:27:52.688223",
     "exception": false,
     "start_time": "2023-03-19T00:27:52.683416",
     "status": "completed"
    },
    "tags": []
   },
   "source": [
    "# Actual Model"
   ]
  },
  {
   "cell_type": "markdown",
   "id": "75826cb7",
   "metadata": {
    "_cell_guid": "d68a62ff-d77d-4641-9f0e-9e1440c89eae",
    "_uuid": "1762f2cc-fa10-4873-b2fd-ae52c826b71b",
    "papermill": {
     "duration": 0.004622,
     "end_time": "2023-03-19T00:27:52.697431",
     "exception": false,
     "start_time": "2023-03-19T00:27:52.692809",
     "status": "completed"
    },
    "tags": []
   },
   "source": [
    "## Creating the encoder"
   ]
  },
  {
   "cell_type": "code",
   "execution_count": 4,
   "id": "5bdd3f96",
   "metadata": {
    "_cell_guid": "1c693985-7758-4a7f-80df-9577264add70",
    "_uuid": "18d0cc53-3522-415c-aaf1-aff9633ecb2f",
    "collapsed": false,
    "execution": {
     "iopub.execute_input": "2023-03-19T00:27:52.708573Z",
     "iopub.status.busy": "2023-03-19T00:27:52.707743Z",
     "iopub.status.idle": "2023-03-19T00:27:52.713832Z",
     "shell.execute_reply": "2023-03-19T00:27:52.712884Z"
    },
    "jupyter": {
     "outputs_hidden": false
    },
    "papermill": {
     "duration": 0.014018,
     "end_time": "2023-03-19T00:27:52.716013",
     "exception": false,
     "start_time": "2023-03-19T00:27:52.701995",
     "status": "completed"
    },
    "tags": []
   },
   "outputs": [],
   "source": [
    "def createEncoder():\n",
    "    NUM_ROWS = 150000\n",
    "    BATCH_SIZE = 64\n",
    "\n",
    "    MAX_TOKENS = 5000\n",
    "    MAX_LENGTH = 200\n",
    "    encoder = tf.keras.layers.TextVectorization(max_tokens=MAX_TOKENS, output_sequence_length=MAX_LENGTH)\n",
    "    encoder.adapt(data.head(NUM_ROWS)[\"comment_text\"].tolist())\n",
    "\n",
    "    vocab = np.array(encoder.get_vocabulary())"
   ]
  },
  {
   "cell_type": "markdown",
   "id": "94f136d7",
   "metadata": {
    "_cell_guid": "dd3a737b-13b7-42f3-b001-4da1fbbebb19",
    "_uuid": "e5c2962b-271d-416b-b8c0-e97cbd4e2ca6",
    "papermill": {
     "duration": 0.004508,
     "end_time": "2023-03-19T00:27:52.725194",
     "exception": false,
     "start_time": "2023-03-19T00:27:52.720686",
     "status": "completed"
    },
    "tags": []
   },
   "source": [
    "## Creating the model"
   ]
  },
  {
   "cell_type": "code",
   "execution_count": 5,
   "id": "32adfd62",
   "metadata": {
    "_cell_guid": "6640ea64-b55a-4f24-900b-8d430fd7a2a2",
    "_uuid": "5a170b01-1163-47c5-b4bc-ab5eb4916045",
    "collapsed": false,
    "execution": {
     "iopub.execute_input": "2023-03-19T00:27:52.735667Z",
     "iopub.status.busy": "2023-03-19T00:27:52.735379Z",
     "iopub.status.idle": "2023-03-19T00:27:52.744469Z",
     "shell.execute_reply": "2023-03-19T00:27:52.743557Z"
    },
    "jupyter": {
     "outputs_hidden": false
    },
    "papermill": {
     "duration": 0.016812,
     "end_time": "2023-03-19T00:27:52.746576",
     "exception": false,
     "start_time": "2023-03-19T00:27:52.729764",
     "status": "completed"
    },
    "tags": []
   },
   "outputs": [],
   "source": [
    "def createModel():\n",
    "    # Sets random seed so results are identical every time\n",
    "    SEED = 1\n",
    "    tf.random.set_seed(SEED)\n",
    "    np.random.seed(SEED)\n",
    "    tf.keras.utils.set_random_seed(SEED)\n",
    "\n",
    "    # TOXIC_CATEGORIES = [\"toxic\", \"severe_toxic\", \"obscene\", \"threat\", \"insult\", \"identity_hate\"]\n",
    "    TOXIC_CATEGORIES = [\"toxic\"]\n",
    "\n",
    "    model = tf.keras.Sequential([\n",
    "        encoder,\n",
    "        tf.keras.layers.Embedding(\n",
    "            input_dim=len(encoder.get_vocabulary()),\n",
    "            output_dim=512,\n",
    "            mask_zero=True\n",
    "        ),\n",
    "        tf.keras.layers.Bidirectional(tf.keras.layers.LSTM(64, return_sequences=True)),\n",
    "        tf.keras.layers.Bidirectional(tf.keras.layers.LSTM(32)),\n",
    "        tf.keras.layers.Dense(64, activation=\"relu\"),\n",
    "        tf.keras.layers.Dropout(0.5),\n",
    "        tf.keras.layers.Dense(len(TOXIC_CATEGORIES), activation=\"sigmoid\")\n",
    "    ])\n",
    "\n",
    "    model.compile(loss=tf.keras.losses.BinaryCrossentropy(),\n",
    "                 optimizer=tf.keras.optimizers.Adam(1e-4),\n",
    "                  metrics=[\"accuracy\"])"
   ]
  },
  {
   "cell_type": "markdown",
   "id": "9488e0af",
   "metadata": {
    "_cell_guid": "18f2b40f-5a96-4e27-91d6-015082e6168e",
    "_uuid": "ca2eaf2d-8ffe-49d0-b576-71c7dae7f04b",
    "papermill": {
     "duration": 0.004628,
     "end_time": "2023-03-19T00:27:52.755761",
     "exception": false,
     "start_time": "2023-03-19T00:27:52.751133",
     "status": "completed"
    },
    "tags": []
   },
   "source": [
    "\n",
    "### Training the model"
   ]
  },
  {
   "cell_type": "code",
   "execution_count": 6,
   "id": "49d4d0e0",
   "metadata": {
    "_cell_guid": "a89fdc4a-39af-4a95-81bf-af7368756740",
    "_uuid": "36244f0b-701e-4297-bb7a-ea281fb3f2a6",
    "collapsed": false,
    "execution": {
     "iopub.execute_input": "2023-03-19T00:27:52.766136Z",
     "iopub.status.busy": "2023-03-19T00:27:52.765867Z",
     "iopub.status.idle": "2023-03-19T00:27:52.771504Z",
     "shell.execute_reply": "2023-03-19T00:27:52.770484Z"
    },
    "jupyter": {
     "outputs_hidden": false
    },
    "papermill": {
     "duration": 0.013455,
     "end_time": "2023-03-19T00:27:52.773778",
     "exception": false,
     "start_time": "2023-03-19T00:27:52.760323",
     "status": "completed"
    },
    "tags": []
   },
   "outputs": [],
   "source": [
    "def getTrainingData():\n",
    "    # Classification for all types of toxicity\n",
    "    multiDf = data.head(NUM_ROWS)[[\"comment_text\"] + TOXIC_CATEGORIES]\n",
    "\n",
    "    x = multiDf[\"comment_text\"]\n",
    "    y = multiDf[TOXIC_CATEGORIES]\n",
    "\n",
    "    splitter = StratifiedShuffleSplit(random_state=1, test_size=0.2)\n",
    "\n",
    "    for train,test in splitter.split(x, y[TOXIC_CATEGORIES[0]]):\n",
    "        training_data = x.iloc[train]\n",
    "        training_target = y.iloc[train]\n",
    "        validation_data = x.iloc[test]\n",
    "        validation_target = y.iloc[test]"
   ]
  },
  {
   "cell_type": "code",
   "execution_count": 7,
   "id": "f27347c6",
   "metadata": {
    "_cell_guid": "18a869cb-b257-4b11-9bef-859e2790689b",
    "_uuid": "897a3f1d-7263-40aa-8e20-9626c8f7c3b2",
    "collapsed": false,
    "execution": {
     "iopub.execute_input": "2023-03-19T00:27:52.784238Z",
     "iopub.status.busy": "2023-03-19T00:27:52.783942Z",
     "iopub.status.idle": "2023-03-19T00:27:52.789226Z",
     "shell.execute_reply": "2023-03-19T00:27:52.788195Z"
    },
    "jupyter": {
     "outputs_hidden": false
    },
    "papermill": {
     "duration": 0.012906,
     "end_time": "2023-03-19T00:27:52.791425",
     "exception": false,
     "start_time": "2023-03-19T00:27:52.778519",
     "status": "completed"
    },
    "tags": []
   },
   "outputs": [],
   "source": [
    "def trainModel():\n",
    "    # Early Stopping\n",
    "    callback = tf.keras.callbacks.EarlyStopping(monitor=\"val_accuracy\", patience=2)\n",
    "\n",
    "    history = model.fit(training_data, training_target, epochs=10, validation_data=(validation_data, validation_target), callbacks=[callback], batch_size=32)"
   ]
  },
  {
   "cell_type": "code",
   "execution_count": 8,
   "id": "a0ace779",
   "metadata": {
    "execution": {
     "iopub.execute_input": "2023-03-19T00:27:52.802029Z",
     "iopub.status.busy": "2023-03-19T00:27:52.801584Z",
     "iopub.status.idle": "2023-03-19T00:27:52.805779Z",
     "shell.execute_reply": "2023-03-19T00:27:52.804749Z"
    },
    "papermill": {
     "duration": 0.011582,
     "end_time": "2023-03-19T00:27:52.807849",
     "exception": false,
     "start_time": "2023-03-19T00:27:52.796267",
     "status": "completed"
    },
    "tags": []
   },
   "outputs": [],
   "source": [
    "if WILL_RUN:\n",
    "    createEncoder()\n",
    "    createModel()\n",
    "    getTrainingData()\n",
    "    trainModel()"
   ]
  },
  {
   "cell_type": "markdown",
   "id": "705a3bde",
   "metadata": {
    "_cell_guid": "19b8df25-a0cf-4569-9b81-b5841f8e533a",
    "_uuid": "d3e07f9b-3ed8-4f0a-a5e0-acdf39626ba3",
    "papermill": {
     "duration": 0.004587,
     "end_time": "2023-03-19T00:27:52.817065",
     "exception": false,
     "start_time": "2023-03-19T00:27:52.812478",
     "status": "completed"
    },
    "tags": []
   },
   "source": [
    "### Getting test data"
   ]
  },
  {
   "cell_type": "code",
   "execution_count": 9,
   "id": "856487b4",
   "metadata": {
    "_cell_guid": "e5ea429c-507c-429f-a580-72d4c2a0fecf",
    "_uuid": "aff4e6f0-d28c-402f-9d1a-8931fa4a8897",
    "collapsed": false,
    "execution": {
     "iopub.execute_input": "2023-03-19T00:27:52.827403Z",
     "iopub.status.busy": "2023-03-19T00:27:52.827155Z",
     "iopub.status.idle": "2023-03-19T00:27:52.832908Z",
     "shell.execute_reply": "2023-03-19T00:27:52.831876Z"
    },
    "jupyter": {
     "outputs_hidden": false
    },
    "papermill": {
     "duration": 0.013862,
     "end_time": "2023-03-19T00:27:52.835462",
     "exception": false,
     "start_time": "2023-03-19T00:27:52.821600",
     "status": "completed"
    },
    "tags": []
   },
   "outputs": [],
   "source": [
    "# Classification for all toxicity values\n",
    "def getTestData():\n",
    "    test_data = pd.read_csv(\"/kaggle/input/toxic-message-classifier-dataset/test.csv\")\n",
    "    test_labels = pd.read_csv(\"/kaggle/input/toxic-message-classifier-dataset/test_labels.csv\")\n",
    "\n",
    "    test_labels = test_labels\n",
    "    merged_df = test_labels.merge(test_data, left_on=\"id\", right_on=\"id\")\n",
    "    merged_df = merged_df.loc[(merged_df[\"toxic\"] != -1) & (merged_df[\"severe_toxic\"] != -1) & (merged_df[\"obscene\"] != -1) & (merged_df[\"threat\"] != -1) & (merged_df[\"insult\"] != -1) & (merged_df[\"identity_hate\"] != -1)]"
   ]
  },
  {
   "cell_type": "code",
   "execution_count": 10,
   "id": "3c7bc39d",
   "metadata": {
    "_cell_guid": "1cbe02ff-bfca-409b-a2e6-6797944020ea",
    "_uuid": "4a47d1ac-3b68-4baa-b33f-9ea6f93c8339",
    "collapsed": false,
    "execution": {
     "iopub.execute_input": "2023-03-19T00:27:52.846292Z",
     "iopub.status.busy": "2023-03-19T00:27:52.846035Z",
     "iopub.status.idle": "2023-03-19T00:27:52.850373Z",
     "shell.execute_reply": "2023-03-19T00:27:52.849464Z"
    },
    "jupyter": {
     "outputs_hidden": false
    },
    "papermill": {
     "duration": 0.012029,
     "end_time": "2023-03-19T00:27:52.852378",
     "exception": false,
     "start_time": "2023-03-19T00:27:52.840349",
     "status": "completed"
    },
    "tags": []
   },
   "outputs": [],
   "source": [
    "# Tests all rows with a value of 0 or 1 for all toxicity values\n",
    "\n",
    "def testAllValues():\n",
    "    test_df = merged_df[\"comment_text\"]\n",
    "    test_target = merged_df[TOXIC_CATEGORIES]\n",
    "    model.evaluate(test_df, test_target)"
   ]
  },
  {
   "cell_type": "code",
   "execution_count": 11,
   "id": "726ee5fc",
   "metadata": {
    "_cell_guid": "36631b99-33b2-4d6b-8337-16d7f129dacb",
    "_uuid": "d71bee81-43dd-4eac-abbe-f198fa153714",
    "collapsed": false,
    "execution": {
     "iopub.execute_input": "2023-03-19T00:27:52.863212Z",
     "iopub.status.busy": "2023-03-19T00:27:52.862944Z",
     "iopub.status.idle": "2023-03-19T00:27:52.868585Z",
     "shell.execute_reply": "2023-03-19T00:27:52.867535Z"
    },
    "jupyter": {
     "outputs_hidden": false
    },
    "papermill": {
     "duration": 0.013497,
     "end_time": "2023-03-19T00:27:52.870804",
     "exception": false,
     "start_time": "2023-03-19T00:27:52.857307",
     "status": "completed"
    },
    "tags": []
   },
   "outputs": [],
   "source": [
    "# Test where all toxicity values are 0\n",
    "\n",
    "def testZeroValues():\n",
    "    test_df = merged_df[\"comment_text\"]\n",
    "    query = \" & \".join([f\"({label} == 0)\" for label in TOXIC_CATEGORIES])\n",
    "    filtered_df = merged_df.query(query)\n",
    "\n",
    "    filtered_test_dataset = filtered_df[\"comment_text\"]\n",
    "    filtered_df_target = filtered_df[TOXIC_CATEGORIES]\n",
    "    model.evaluate(filtered_test_dataset, filtered_df_target)"
   ]
  },
  {
   "cell_type": "code",
   "execution_count": 12,
   "id": "fb8d1340",
   "metadata": {
    "_cell_guid": "9e622836-f18d-4a32-96d7-3fba3a56d873",
    "_uuid": "5a0b97e6-861e-41fe-a86e-8b3b65043248",
    "collapsed": false,
    "execution": {
     "iopub.execute_input": "2023-03-19T00:27:52.881131Z",
     "iopub.status.busy": "2023-03-19T00:27:52.880874Z",
     "iopub.status.idle": "2023-03-19T00:27:52.886474Z",
     "shell.execute_reply": "2023-03-19T00:27:52.885662Z"
    },
    "jupyter": {
     "outputs_hidden": false
    },
    "papermill": {
     "duration": 0.01288,
     "end_time": "2023-03-19T00:27:52.888429",
     "exception": false,
     "start_time": "2023-03-19T00:27:52.875549",
     "status": "completed"
    },
    "tags": []
   },
   "outputs": [],
   "source": [
    "# Test where any toxicity value is 1\n",
    "\n",
    "def testOneValues():\n",
    "    test_df = merged_df[\"comment_text\"]\n",
    "    query = \" | \".join([f\"({label} == 1)\" for label in TOXIC_CATEGORIES])\n",
    "    filtered_df = merged_df.query(query)\n",
    "\n",
    "    filtered_test_dataset = filtered_df[\"comment_text\"]\n",
    "    filtered_df_target = filtered_df[TOXIC_CATEGORIES]\n",
    "    model.evaluate(filtered_test_dataset, filtered_df_target)"
   ]
  },
  {
   "cell_type": "code",
   "execution_count": 13,
   "id": "699be8b6",
   "metadata": {
    "_cell_guid": "10321912-285e-4955-a25d-70f87bd95f99",
    "_uuid": "f98273c4-e8c2-443d-b1d6-5776d5d2c8f7",
    "collapsed": false,
    "execution": {
     "iopub.execute_input": "2023-03-19T00:27:52.898855Z",
     "iopub.status.busy": "2023-03-19T00:27:52.898572Z",
     "iopub.status.idle": "2023-03-19T00:27:52.906575Z",
     "shell.execute_reply": "2023-03-19T00:27:52.905560Z"
    },
    "jupyter": {
     "outputs_hidden": false
    },
    "papermill": {
     "duration": 0.015872,
     "end_time": "2023-03-19T00:27:52.908887",
     "exception": false,
     "start_time": "2023-03-19T00:27:52.893015",
     "status": "completed"
    },
    "tags": []
   },
   "outputs": [],
   "source": [
    "def getSubmissionFile():\n",
    "    submission_set = pd.read_csv('/kaggle/input/toxic-message-classifier-dataset/test.csv')\n",
    "    submission_set.head()\n",
    "\n",
    "    x_test = submission_set['comment_text'].values\n",
    "    y_testing = model.predict(x_test, verbose=1, batch_size=BATCH_SIZE)\n",
    "    \n",
    "    submission_df = pd.DataFrame(columns = ['id','toxic','severe_toxic','obscene','threat','insult','identity_hate'])\n",
    "    submission_df['id'] = submission_set['id']\n",
    "    submission_df['toxic'] = [0 if x[0] < 0.5 else 1 for x in y_testing]\n",
    "    submission_df['severe_toxic'] = [0 if x[1] < 0.5 else 1 for x in y_testing]\n",
    "    submission_df['obscene'] = [0 if x[2] < 0.5 else 1 for x in y_testing]\n",
    "    submission_df['threat'] = [0 if x[3] < 0.5 else 1 for x in y_testing]\n",
    "    submission_df['insult'] = [0 if x[4] < 0.5 else 1 for x in y_testing]\n",
    "    submission_df['identity_hate'] = [0 if x[5] < 0.5 else 1 for x in y_testing]\n",
    "\n",
    "    submission_df.head()\n",
    "\n",
    "    submission_df.to_csv('/kaggle/working/submission.csv', index=False)"
   ]
  },
  {
   "cell_type": "code",
   "execution_count": 14,
   "id": "419e0ebe",
   "metadata": {
    "execution": {
     "iopub.execute_input": "2023-03-19T00:27:52.919165Z",
     "iopub.status.busy": "2023-03-19T00:27:52.918906Z",
     "iopub.status.idle": "2023-03-19T00:27:52.923068Z",
     "shell.execute_reply": "2023-03-19T00:27:52.922051Z"
    },
    "papermill": {
     "duration": 0.012145,
     "end_time": "2023-03-19T00:27:52.925548",
     "exception": false,
     "start_time": "2023-03-19T00:27:52.913403",
     "status": "completed"
    },
    "tags": []
   },
   "outputs": [],
   "source": [
    "if WILL_RUN:\n",
    "    getTestData()\n",
    "    testAllValues()\n",
    "#     testZeroValues()\n",
    "#     testOneValues()\n",
    "#     getSubmissionFile()"
   ]
  },
  {
   "cell_type": "code",
   "execution_count": null,
   "id": "3cc73d39",
   "metadata": {
    "papermill": {
     "duration": 0.004505,
     "end_time": "2023-03-19T00:27:52.934597",
     "exception": false,
     "start_time": "2023-03-19T00:27:52.930092",
     "status": "completed"
    },
    "tags": []
   },
   "outputs": [],
   "source": []
  }
 ],
 "metadata": {
  "kernelspec": {
   "display_name": "Python 3",
   "language": "python",
   "name": "python3"
  },
  "language_info": {
   "codemirror_mode": {
    "name": "ipython",
    "version": 3
   },
   "file_extension": ".py",
   "mimetype": "text/x-python",
   "name": "python",
   "nbconvert_exporter": "python",
   "pygments_lexer": "ipython3",
   "version": "3.7.12"
  },
  "papermill": {
   "default_parameters": {},
   "duration": 21.284507,
   "end_time": "2023-03-19T00:27:56.009529",
   "environment_variables": {},
   "exception": null,
   "input_path": "__notebook__.ipynb",
   "output_path": "__notebook__.ipynb",
   "parameters": {},
   "start_time": "2023-03-19T00:27:34.725022",
   "version": "2.3.4"
  }
 },
 "nbformat": 4,
 "nbformat_minor": 5
}
