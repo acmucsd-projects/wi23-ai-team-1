{
 "cells": [
  {
   "cell_type": "markdown",
   "id": "42f4a212",
   "metadata": {
    "_cell_guid": "0a228c24-5dd0-4c5e-b737-6aa33e81a8cc",
    "_uuid": "b81db511-441e-4431-8061-901682022a9b",
    "papermill": {
     "duration": 0.005911,
     "end_time": "2023-03-19T00:31:21.293574",
     "exception": false,
     "start_time": "2023-03-19T00:31:21.287663",
     "status": "completed"
    },
    "tags": []
   },
   "source": [
    "# Setup"
   ]
  },
  {
   "cell_type": "code",
   "execution_count": 1,
   "id": "21aa2355",
   "metadata": {
    "execution": {
     "iopub.execute_input": "2023-03-19T00:31:21.304737Z",
     "iopub.status.busy": "2023-03-19T00:31:21.304256Z",
     "iopub.status.idle": "2023-03-19T00:31:21.314392Z",
     "shell.execute_reply": "2023-03-19T00:31:21.313545Z"
    },
    "papermill": {
     "duration": 0.01816,
     "end_time": "2023-03-19T00:31:21.316496",
     "exception": false,
     "start_time": "2023-03-19T00:31:21.298336",
     "status": "completed"
    },
    "tags": []
   },
   "outputs": [],
   "source": [
    "# Set to True when we want to run the code\n",
    "WILL_RUN = False"
   ]
  },
  {
   "cell_type": "code",
   "execution_count": 2,
   "id": "59cadfd2",
   "metadata": {
    "_cell_guid": "77a6d5cb-c5e1-464f-a207-aaaf714217e5",
    "_uuid": "5d0a9466-d9ad-4f8e-b2df-f2912e3199b7",
    "collapsed": false,
    "execution": {
     "iopub.execute_input": "2023-03-19T00:31:21.327232Z",
     "iopub.status.busy": "2023-03-19T00:31:21.326432Z",
     "iopub.status.idle": "2023-03-19T00:31:28.179668Z",
     "shell.execute_reply": "2023-03-19T00:31:28.178703Z"
    },
    "jupyter": {
     "outputs_hidden": false
    },
    "papermill": {
     "duration": 6.861026,
     "end_time": "2023-03-19T00:31:28.182082",
     "exception": false,
     "start_time": "2023-03-19T00:31:21.321056",
     "status": "completed"
    },
    "tags": []
   },
   "outputs": [],
   "source": [
    "import pandas as pd\n",
    "import numpy as np\n",
    "\n",
    "import tensorflow as tf\n",
    "from tensorflow import keras\n",
    "\n",
    "from sklearn.model_selection import StratifiedShuffleSplit"
   ]
  },
  {
   "cell_type": "code",
   "execution_count": 3,
   "id": "605a3cd0",
   "metadata": {
    "_cell_guid": "88f8eb4b-23a8-46e5-8d9f-7012db25b7cb",
    "_uuid": "6d4fa61d-0edb-40d0-b96e-7aa769d1167c",
    "collapsed": false,
    "execution": {
     "iopub.execute_input": "2023-03-19T00:31:28.193200Z",
     "iopub.status.busy": "2023-03-19T00:31:28.192672Z",
     "iopub.status.idle": "2023-03-19T00:31:30.459221Z",
     "shell.execute_reply": "2023-03-19T00:31:30.458228Z"
    },
    "id": "T3ng90-PS0JD",
    "jupyter": {
     "outputs_hidden": false
    },
    "outputId": "5bab9c74-8f9f-4c7d-d1b4-e034f7b7b3be",
    "papermill": {
     "duration": 2.274731,
     "end_time": "2023-03-19T00:31:30.461667",
     "exception": false,
     "start_time": "2023-03-19T00:31:28.186936",
     "status": "completed"
    },
    "pycharm": {
     "is_executing": true
    },
    "tags": []
   },
   "outputs": [],
   "source": [
    "data = pd.read_csv(\"/kaggle/input/toxic-message-classifier-dataset/train_cleaned.csv\")"
   ]
  },
  {
   "cell_type": "markdown",
   "id": "e9d50e7b",
   "metadata": {
    "_cell_guid": "8727fbee-4fbc-440c-b2bb-8a04605cebb2",
    "_uuid": "1b567499-0860-419c-9500-2d94d901af56",
    "papermill": {
     "duration": 0.004429,
     "end_time": "2023-03-19T00:31:30.471007",
     "exception": false,
     "start_time": "2023-03-19T00:31:30.466578",
     "status": "completed"
    },
    "tags": []
   },
   "source": [
    "# Actual Model"
   ]
  },
  {
   "cell_type": "markdown",
   "id": "1663169e",
   "metadata": {
    "_cell_guid": "d68a62ff-d77d-4641-9f0e-9e1440c89eae",
    "_uuid": "1762f2cc-fa10-4873-b2fd-ae52c826b71b",
    "papermill": {
     "duration": 0.004367,
     "end_time": "2023-03-19T00:31:30.479899",
     "exception": false,
     "start_time": "2023-03-19T00:31:30.475532",
     "status": "completed"
    },
    "tags": []
   },
   "source": [
    "## Creating the encoder"
   ]
  },
  {
   "cell_type": "code",
   "execution_count": 4,
   "id": "140da514",
   "metadata": {
    "_cell_guid": "1c693985-7758-4a7f-80df-9577264add70",
    "_uuid": "18d0cc53-3522-415c-aaf1-aff9633ecb2f",
    "collapsed": false,
    "execution": {
     "iopub.execute_input": "2023-03-19T00:31:30.491303Z",
     "iopub.status.busy": "2023-03-19T00:31:30.489858Z",
     "iopub.status.idle": "2023-03-19T00:31:30.496985Z",
     "shell.execute_reply": "2023-03-19T00:31:30.496144Z"
    },
    "jupyter": {
     "outputs_hidden": false
    },
    "papermill": {
     "duration": 0.014459,
     "end_time": "2023-03-19T00:31:30.498851",
     "exception": false,
     "start_time": "2023-03-19T00:31:30.484392",
     "status": "completed"
    },
    "tags": []
   },
   "outputs": [],
   "source": [
    "def createEncoder():\n",
    "    NUM_ROWS = 150000\n",
    "    BATCH_SIZE = 64\n",
    "\n",
    "    MAX_TOKENS = 5000\n",
    "    MAX_LENGTH = 200\n",
    "    encoder = tf.keras.layers.TextVectorization(max_tokens=MAX_TOKENS, output_sequence_length=MAX_LENGTH)\n",
    "    encoder.adapt(data.head(NUM_ROWS)[\"comment_text\"].tolist())\n",
    "\n",
    "    vocab = np.array(encoder.get_vocabulary())"
   ]
  },
  {
   "cell_type": "markdown",
   "id": "d3ee1404",
   "metadata": {
    "_cell_guid": "dd3a737b-13b7-42f3-b001-4da1fbbebb19",
    "_uuid": "e5c2962b-271d-416b-b8c0-e97cbd4e2ca6",
    "papermill": {
     "duration": 0.00434,
     "end_time": "2023-03-19T00:31:30.507799",
     "exception": false,
     "start_time": "2023-03-19T00:31:30.503459",
     "status": "completed"
    },
    "tags": []
   },
   "source": [
    "## Creating the model"
   ]
  },
  {
   "cell_type": "code",
   "execution_count": 5,
   "id": "f212e136",
   "metadata": {
    "_cell_guid": "6640ea64-b55a-4f24-900b-8d430fd7a2a2",
    "_uuid": "5a170b01-1163-47c5-b4bc-ab5eb4916045",
    "collapsed": false,
    "execution": {
     "iopub.execute_input": "2023-03-19T00:31:30.518630Z",
     "iopub.status.busy": "2023-03-19T00:31:30.517750Z",
     "iopub.status.idle": "2023-03-19T00:31:30.525634Z",
     "shell.execute_reply": "2023-03-19T00:31:30.524814Z"
    },
    "jupyter": {
     "outputs_hidden": false
    },
    "papermill": {
     "duration": 0.015297,
     "end_time": "2023-03-19T00:31:30.527601",
     "exception": false,
     "start_time": "2023-03-19T00:31:30.512304",
     "status": "completed"
    },
    "tags": []
   },
   "outputs": [],
   "source": [
    "def createModel():\n",
    "    # Sets random seed so results are identical every time\n",
    "    SEED = 1\n",
    "    tf.random.set_seed(SEED)\n",
    "    np.random.seed(SEED)\n",
    "    tf.keras.utils.set_random_seed(SEED)\n",
    "\n",
    "    # TOXIC_CATEGORIES = [\"toxic\", \"severe_toxic\", \"obscene\", \"threat\", \"insult\", \"identity_hate\"]\n",
    "    TOXIC_CATEGORIES = [\"toxic\"]\n",
    "\n",
    "    model = tf.keras.Sequential([\n",
    "        encoder,\n",
    "        tf.keras.layers.Embedding(\n",
    "            input_dim=len(encoder.get_vocabulary()),\n",
    "            output_dim=512,\n",
    "            mask_zero=True\n",
    "        ),\n",
    "        tf.keras.layers.Bidirectional(tf.keras.layers.LSTM(64, return_sequences=True)),\n",
    "        tf.keras.layers.Bidirectional(tf.keras.layers.LSTM(32)),\n",
    "        tf.keras.layers.Dense(64, activation=\"relu\"),\n",
    "        tf.keras.layers.Dropout(0.5),\n",
    "        tf.keras.layers.Dense(len(TOXIC_CATEGORIES), activation=\"sigmoid\")\n",
    "    ])\n",
    "\n",
    "    model.compile(loss=tf.keras.losses.BinaryCrossentropy(),\n",
    "                 optimizer=tf.keras.optimizers.Adam(1e-4),\n",
    "                  metrics=[\"accuracy\"])"
   ]
  },
  {
   "cell_type": "markdown",
   "id": "4ab43b9c",
   "metadata": {
    "_cell_guid": "18f2b40f-5a96-4e27-91d6-015082e6168e",
    "_uuid": "ca2eaf2d-8ffe-49d0-b576-71c7dae7f04b",
    "papermill": {
     "duration": 0.004397,
     "end_time": "2023-03-19T00:31:30.536528",
     "exception": false,
     "start_time": "2023-03-19T00:31:30.532131",
     "status": "completed"
    },
    "tags": []
   },
   "source": [
    "\n",
    "### Training the model"
   ]
  },
  {
   "cell_type": "code",
   "execution_count": 6,
   "id": "ee612ed7",
   "metadata": {
    "_cell_guid": "a89fdc4a-39af-4a95-81bf-af7368756740",
    "_uuid": "36244f0b-701e-4297-bb7a-ea281fb3f2a6",
    "collapsed": false,
    "execution": {
     "iopub.execute_input": "2023-03-19T00:31:30.546657Z",
     "iopub.status.busy": "2023-03-19T00:31:30.546369Z",
     "iopub.status.idle": "2023-03-19T00:31:30.553185Z",
     "shell.execute_reply": "2023-03-19T00:31:30.552350Z"
    },
    "jupyter": {
     "outputs_hidden": false
    },
    "papermill": {
     "duration": 0.014079,
     "end_time": "2023-03-19T00:31:30.555168",
     "exception": false,
     "start_time": "2023-03-19T00:31:30.541089",
     "status": "completed"
    },
    "tags": []
   },
   "outputs": [],
   "source": [
    "def getTrainingData():\n",
    "    # Classification for all types of toxicity\n",
    "    multiDf = data.head(NUM_ROWS)[[\"comment_text\"] + TOXIC_CATEGORIES]\n",
    "\n",
    "    x = multiDf[\"comment_text\"]\n",
    "    y = multiDf[TOXIC_CATEGORIES]\n",
    "\n",
    "    splitter = StratifiedShuffleSplit(random_state=1, test_size=0.2)\n",
    "\n",
    "    for train,test in splitter.split(x, y[TOXIC_CATEGORIES[0]]):\n",
    "        training_data = x.iloc[train]\n",
    "        training_target = y.iloc[train]\n",
    "        validation_data = x.iloc[test]\n",
    "        validation_target = y.iloc[test]"
   ]
  },
  {
   "cell_type": "code",
   "execution_count": 7,
   "id": "ce0f425d",
   "metadata": {
    "_cell_guid": "18a869cb-b257-4b11-9bef-859e2790689b",
    "_uuid": "897a3f1d-7263-40aa-8e20-9626c8f7c3b2",
    "collapsed": false,
    "execution": {
     "iopub.execute_input": "2023-03-19T00:31:30.565331Z",
     "iopub.status.busy": "2023-03-19T00:31:30.565068Z",
     "iopub.status.idle": "2023-03-19T00:31:30.569824Z",
     "shell.execute_reply": "2023-03-19T00:31:30.568816Z"
    },
    "jupyter": {
     "outputs_hidden": false
    },
    "papermill": {
     "duration": 0.012354,
     "end_time": "2023-03-19T00:31:30.572108",
     "exception": false,
     "start_time": "2023-03-19T00:31:30.559754",
     "status": "completed"
    },
    "tags": []
   },
   "outputs": [],
   "source": [
    "def trainModel():\n",
    "    # Early Stopping\n",
    "    callback = tf.keras.callbacks.EarlyStopping(monitor=\"val_accuracy\", patience=2)\n",
    "\n",
    "    history = model.fit(training_data, training_target, epochs=10, validation_data=(validation_data, validation_target), callbacks=[callback], batch_size=32)"
   ]
  },
  {
   "cell_type": "code",
   "execution_count": 8,
   "id": "5a05851b",
   "metadata": {
    "execution": {
     "iopub.execute_input": "2023-03-19T00:31:30.582307Z",
     "iopub.status.busy": "2023-03-19T00:31:30.582051Z",
     "iopub.status.idle": "2023-03-19T00:31:30.586289Z",
     "shell.execute_reply": "2023-03-19T00:31:30.585287Z"
    },
    "papermill": {
     "duration": 0.011889,
     "end_time": "2023-03-19T00:31:30.588535",
     "exception": false,
     "start_time": "2023-03-19T00:31:30.576646",
     "status": "completed"
    },
    "tags": []
   },
   "outputs": [],
   "source": [
    "if WILL_RUN:\n",
    "    createEncoder()\n",
    "    createModel()\n",
    "    getTrainingData()\n",
    "    trainModel()"
   ]
  },
  {
   "cell_type": "markdown",
   "id": "a7d6e6da",
   "metadata": {
    "_cell_guid": "19b8df25-a0cf-4569-9b81-b5841f8e533a",
    "_uuid": "d3e07f9b-3ed8-4f0a-a5e0-acdf39626ba3",
    "papermill": {
     "duration": 0.004367,
     "end_time": "2023-03-19T00:31:30.597383",
     "exception": false,
     "start_time": "2023-03-19T00:31:30.593016",
     "status": "completed"
    },
    "tags": []
   },
   "source": [
    "### Getting test data"
   ]
  },
  {
   "cell_type": "code",
   "execution_count": 9,
   "id": "0512c3ba",
   "metadata": {
    "_cell_guid": "e5ea429c-507c-429f-a580-72d4c2a0fecf",
    "_uuid": "aff4e6f0-d28c-402f-9d1a-8931fa4a8897",
    "collapsed": false,
    "execution": {
     "iopub.execute_input": "2023-03-19T00:31:30.607610Z",
     "iopub.status.busy": "2023-03-19T00:31:30.607250Z",
     "iopub.status.idle": "2023-03-19T00:31:30.613071Z",
     "shell.execute_reply": "2023-03-19T00:31:30.612058Z"
    },
    "jupyter": {
     "outputs_hidden": false
    },
    "papermill": {
     "duration": 0.013369,
     "end_time": "2023-03-19T00:31:30.615317",
     "exception": false,
     "start_time": "2023-03-19T00:31:30.601948",
     "status": "completed"
    },
    "tags": []
   },
   "outputs": [],
   "source": [
    "# Classification for all toxicity values\n",
    "def getTestData():\n",
    "    test_data = pd.read_csv(\"/kaggle/input/toxic-message-classifier-dataset/test.csv\")\n",
    "    test_labels = pd.read_csv(\"/kaggle/input/toxic-message-classifier-dataset/test_labels.csv\")\n",
    "\n",
    "    test_labels = test_labels\n",
    "    merged_df = test_labels.merge(test_data, left_on=\"id\", right_on=\"id\")\n",
    "    merged_df = merged_df.loc[(merged_df[\"toxic\"] != -1) & (merged_df[\"severe_toxic\"] != -1) & (merged_df[\"obscene\"] != -1) & (merged_df[\"threat\"] != -1) & (merged_df[\"insult\"] != -1) & (merged_df[\"identity_hate\"] != -1)]"
   ]
  },
  {
   "cell_type": "code",
   "execution_count": 10,
   "id": "c1b050f1",
   "metadata": {
    "_cell_guid": "1cbe02ff-bfca-409b-a2e6-6797944020ea",
    "_uuid": "4a47d1ac-3b68-4baa-b33f-9ea6f93c8339",
    "collapsed": false,
    "execution": {
     "iopub.execute_input": "2023-03-19T00:31:30.625562Z",
     "iopub.status.busy": "2023-03-19T00:31:30.625275Z",
     "iopub.status.idle": "2023-03-19T00:31:30.629844Z",
     "shell.execute_reply": "2023-03-19T00:31:30.628856Z"
    },
    "jupyter": {
     "outputs_hidden": false
    },
    "papermill": {
     "duration": 0.012327,
     "end_time": "2023-03-19T00:31:30.632255",
     "exception": false,
     "start_time": "2023-03-19T00:31:30.619928",
     "status": "completed"
    },
    "tags": []
   },
   "outputs": [],
   "source": [
    "# Tests all rows with a value of 0 or 1 for all toxicity values\n",
    "\n",
    "def testAllValues():\n",
    "    test_df = merged_df[\"comment_text\"]\n",
    "    test_target = merged_df[TOXIC_CATEGORIES]\n",
    "    model.evaluate(test_df, test_target)"
   ]
  },
  {
   "cell_type": "code",
   "execution_count": 11,
   "id": "f3489cec",
   "metadata": {
    "_cell_guid": "36631b99-33b2-4d6b-8337-16d7f129dacb",
    "_uuid": "d71bee81-43dd-4eac-abbe-f198fa153714",
    "collapsed": false,
    "execution": {
     "iopub.execute_input": "2023-03-19T00:31:30.642480Z",
     "iopub.status.busy": "2023-03-19T00:31:30.642184Z",
     "iopub.status.idle": "2023-03-19T00:31:30.647229Z",
     "shell.execute_reply": "2023-03-19T00:31:30.646306Z"
    },
    "jupyter": {
     "outputs_hidden": false
    },
    "papermill": {
     "duration": 0.012688,
     "end_time": "2023-03-19T00:31:30.649487",
     "exception": false,
     "start_time": "2023-03-19T00:31:30.636799",
     "status": "completed"
    },
    "tags": []
   },
   "outputs": [],
   "source": [
    "# Test where all toxicity values are 0\n",
    "\n",
    "def testZeroValues():\n",
    "    test_df = merged_df[\"comment_text\"]\n",
    "    query = \" & \".join([f\"({label} == 0)\" for label in TOXIC_CATEGORIES])\n",
    "    filtered_df = merged_df.query(query)\n",
    "\n",
    "    filtered_test_dataset = filtered_df[\"comment_text\"]\n",
    "    filtered_df_target = filtered_df[TOXIC_CATEGORIES]\n",
    "    model.evaluate(filtered_test_dataset, filtered_df_target)"
   ]
  },
  {
   "cell_type": "code",
   "execution_count": 12,
   "id": "48c37ff9",
   "metadata": {
    "_cell_guid": "9e622836-f18d-4a32-96d7-3fba3a56d873",
    "_uuid": "5a0b97e6-861e-41fe-a86e-8b3b65043248",
    "collapsed": false,
    "execution": {
     "iopub.execute_input": "2023-03-19T00:31:30.659979Z",
     "iopub.status.busy": "2023-03-19T00:31:30.659708Z",
     "iopub.status.idle": "2023-03-19T00:31:30.665058Z",
     "shell.execute_reply": "2023-03-19T00:31:30.663986Z"
    },
    "jupyter": {
     "outputs_hidden": false
    },
    "papermill": {
     "duration": 0.013264,
     "end_time": "2023-03-19T00:31:30.667354",
     "exception": false,
     "start_time": "2023-03-19T00:31:30.654090",
     "status": "completed"
    },
    "tags": []
   },
   "outputs": [],
   "source": [
    "# Test where any toxicity value is 1\n",
    "\n",
    "def testOneValues():\n",
    "    test_df = merged_df[\"comment_text\"]\n",
    "    query = \" | \".join([f\"({label} == 1)\" for label in TOXIC_CATEGORIES])\n",
    "    filtered_df = merged_df.query(query)\n",
    "\n",
    "    filtered_test_dataset = filtered_df[\"comment_text\"]\n",
    "    filtered_df_target = filtered_df[TOXIC_CATEGORIES]\n",
    "    model.evaluate(filtered_test_dataset, filtered_df_target)"
   ]
  },
  {
   "cell_type": "code",
   "execution_count": 13,
   "id": "1e176ff4",
   "metadata": {
    "_cell_guid": "10321912-285e-4955-a25d-70f87bd95f99",
    "_uuid": "f98273c4-e8c2-443d-b1d6-5776d5d2c8f7",
    "collapsed": false,
    "execution": {
     "iopub.execute_input": "2023-03-19T00:31:30.677679Z",
     "iopub.status.busy": "2023-03-19T00:31:30.677402Z",
     "iopub.status.idle": "2023-03-19T00:31:30.685394Z",
     "shell.execute_reply": "2023-03-19T00:31:30.684445Z"
    },
    "jupyter": {
     "outputs_hidden": false
    },
    "papermill": {
     "duration": 0.015541,
     "end_time": "2023-03-19T00:31:30.687469",
     "exception": false,
     "start_time": "2023-03-19T00:31:30.671928",
     "status": "completed"
    },
    "tags": []
   },
   "outputs": [],
   "source": [
    "def getSubmissionFile():\n",
    "    submission_set = pd.read_csv('/kaggle/input/toxic-message-classifier-dataset/test.csv')\n",
    "    submission_set.head()\n",
    "\n",
    "    x_test = submission_set['comment_text'].values\n",
    "    y_testing = model.predict(x_test, verbose=1, batch_size=BATCH_SIZE)\n",
    "    \n",
    "    submission_df = pd.DataFrame(columns = ['id','toxic','severe_toxic','obscene','threat','insult','identity_hate'])\n",
    "    submission_df['id'] = submission_set['id']\n",
    "    submission_df['toxic'] = [0 if x[0] < 0.5 else 1 for x in y_testing]\n",
    "    submission_df['severe_toxic'] = [0 if x[1] < 0.5 else 1 for x in y_testing]\n",
    "    submission_df['obscene'] = [0 if x[2] < 0.5 else 1 for x in y_testing]\n",
    "    submission_df['threat'] = [0 if x[3] < 0.5 else 1 for x in y_testing]\n",
    "    submission_df['insult'] = [0 if x[4] < 0.5 else 1 for x in y_testing]\n",
    "    submission_df['identity_hate'] = [0 if x[5] < 0.5 else 1 for x in y_testing]\n",
    "\n",
    "    submission_df.head()\n",
    "\n",
    "    submission_df.to_csv('/kaggle/working/submission.csv', index=False)"
   ]
  },
  {
   "cell_type": "code",
   "execution_count": 14,
   "id": "286a5b92",
   "metadata": {
    "execution": {
     "iopub.execute_input": "2023-03-19T00:31:30.697744Z",
     "iopub.status.busy": "2023-03-19T00:31:30.697469Z",
     "iopub.status.idle": "2023-03-19T00:31:30.702570Z",
     "shell.execute_reply": "2023-03-19T00:31:30.701747Z"
    },
    "papermill": {
     "duration": 0.012523,
     "end_time": "2023-03-19T00:31:30.704526",
     "exception": false,
     "start_time": "2023-03-19T00:31:30.692003",
     "status": "completed"
    },
    "tags": []
   },
   "outputs": [],
   "source": [
    "if WILL_RUN:\n",
    "    getTestData()\n",
    "    testAllValues()\n",
    "#     testZeroValues()\n",
    "#     testOneValues()\n",
    "#     getSubmissionFile()"
   ]
  },
  {
   "cell_type": "code",
   "execution_count": null,
   "id": "722b6280",
   "metadata": {
    "papermill": {
     "duration": 0.004398,
     "end_time": "2023-03-19T00:31:30.713469",
     "exception": false,
     "start_time": "2023-03-19T00:31:30.709071",
     "status": "completed"
    },
    "tags": []
   },
   "outputs": [],
   "source": []
  }
 ],
 "metadata": {
  "kernelspec": {
   "display_name": "Python 3",
   "language": "python",
   "name": "python3"
  },
  "language_info": {
   "codemirror_mode": {
    "name": "ipython",
    "version": 3
   },
   "file_extension": ".py",
   "mimetype": "text/x-python",
   "name": "python",
   "nbconvert_exporter": "python",
   "pygments_lexer": "ipython3",
   "version": "3.7.12"
  },
  "papermill": {
   "default_parameters": {},
   "duration": 20.219163,
   "end_time": "2023-03-19T00:31:33.863273",
   "environment_variables": {},
   "exception": null,
   "input_path": "__notebook__.ipynb",
   "output_path": "__notebook__.ipynb",
   "parameters": {},
   "start_time": "2023-03-19T00:31:13.644110",
   "version": "2.3.4"
  }
 },
 "nbformat": 4,
 "nbformat_minor": 5
}
